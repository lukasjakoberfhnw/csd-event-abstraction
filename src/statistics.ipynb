{
 "cells": [
  {
   "cell_type": "markdown",
   "metadata": {},
   "source": [
    "# Statistical Analysis of the Datasets"
   ]
  },
  {
   "cell_type": "code",
   "execution_count": 15,
   "metadata": {},
   "outputs": [
    {
     "name": "stdout",
     "output_type": "stream",
     "text": [
      "D:\\dev\\camerino\\csd-event-abstraction\\data\\tale-camerino\\from_massimiliano\\processed\n"
     ]
    }
   ],
   "source": [
    "import os\n",
    "import pandas as pd\n",
    "from pathlib import Path\n",
    "\n",
    "notebook_path = Path().resolve()\n",
    "data_path = os.path.join(notebook_path, 'data', \"tale-camerino\", \"from_massimiliano\", \"processed\")\n",
    "output_path = os.path.join(notebook_path, 'output')\n",
    "\n",
    "dtype = {'time': 'str', 'activity': 'category', 'x': 'float', 'y': 'float', 'z': 'float', 'robot': 'category', 'run': 'int', 'has_payload': 'category'}\n",
    "\n",
    "print(data_path)\n",
    "\n",
    "data = pd.read_csv(os.path.join(data_path, \"full_dataset.csv\"), dtype=dtype)"
   ]
  },
  {
   "cell_type": "code",
   "execution_count": null,
   "metadata": {},
   "outputs": [],
   "source": [
    "# print statistics about runs\n",
    "print(data['run'].value_counts())"
   ]
  },
  {
   "cell_type": "code",
   "execution_count": null,
   "metadata": {},
   "outputs": [],
   "source": [
    "# print statistics for each run and activity\n",
    "test = data.groupby(['run', 'activity'], observed=True).size()\n",
    "print(test)"
   ]
  },
  {
   "cell_type": "code",
   "execution_count": null,
   "metadata": {},
   "outputs": [],
   "source": [
    "unique_activities = data['activity'].unique()\n",
    "# check if all activities are present in the dataset\n",
    "print(unique_activities)"
   ]
  },
  {
   "cell_type": "code",
   "execution_count": 16,
   "metadata": {},
   "outputs": [
    {
     "name": "stdout",
     "output_type": "stream",
     "text": [
      "                                  time        activity  lifecycle  payload  \\\n",
      "1755     2022-08-01 12:11:14.619805523         TAKEOFF        NaN      NaN   \n",
      "1761     2022-08-01 12:11:14.648857133         TAKEOFF        NaN      NaN   \n",
      "1782     2022-08-01 12:11:14.748234933         TAKEOFF        NaN      NaN   \n",
      "1816     2022-08-01 12:11:14.871605996         TAKEOFF        NaN      NaN   \n",
      "1849     2022-08-01 12:11:14.975672637         TAKEOFF        NaN      NaN   \n",
      "...                                ...             ...        ...      ...   \n",
      "3253960  2022-08-01 18:10:01.540605219  RETURN_TO_BASE        NaN      NaN   \n",
      "3253961  2022-08-01 18:10:01.542526356  RETURN_TO_BASE        NaN      NaN   \n",
      "3253962  2022-08-01 18:10:01.542589158  RETURN_TO_BASE        NaN      NaN   \n",
      "3253963  2022-08-01 18:10:01.675773870  RETURN_TO_BASE        NaN      NaN   \n",
      "3253964  2022-08-01 18:10:01.677060810  RETURN_TO_BASE        NaN      NaN   \n",
      "\n",
      "                    x         y         z            dx            dy  \\\n",
      "1755     1.337116e-14  5.000000  0.025000  0.000000e+00  0.000000e+00   \n",
      "1761     1.337116e-14  5.000000  0.025000  0.000000e+00  0.000000e+00   \n",
      "1782     5.479459e-14  5.000000  0.027922  4.142343e-14  0.000000e+00   \n",
      "1816     9.908091e-14  5.000000  0.039326  4.428631e-14  0.000000e+00   \n",
      "1849     1.353211e-13  5.000000  0.057867  3.624020e-14  0.000000e+00   \n",
      "...               ...       ...       ...           ...           ...   \n",
      "3253960  8.311429e+00  5.135596  0.082440 -1.560691e-07  5.293510e-08   \n",
      "3253961  1.076995e+01  5.099362  0.082654 -5.310620e-03 -2.000633e-03   \n",
      "3253962 -4.880269e-02  3.409027  0.071589  8.131801e-05  2.223185e-04   \n",
      "3253963  1.088257e+01  5.182169  0.083231  1.126178e-01  8.280739e-02   \n",
      "3253964 -7.107856e-02  3.405056  0.071013 -2.227587e-02 -3.970874e-03   \n",
      "\n",
      "                   dz      robot has_payload  run  \n",
      "1755     0.000000e+00    drone_1  no_payload    0  \n",
      "1761     0.000000e+00    drone_1  no_payload    0  \n",
      "1782     2.922381e-03    drone_1  no_payload    0  \n",
      "1816     1.140315e-02    drone_1  no_payload    0  \n",
      "1849     1.854122e-02    drone_1  no_payload    0  \n",
      "...               ...        ...         ...  ...  \n",
      "3253960 -1.599865e-08  tractor_1  no_payload   35  \n",
      "3253961 -1.232275e-04  tractor_2  no_payload   35  \n",
      "3253962  1.171906e-04  tractor_3  no_payload   35  \n",
      "3253963  5.773444e-04  tractor_2  no_payload   35  \n",
      "3253964 -5.756805e-04  tractor_3  no_payload   35  \n",
      "\n",
      "[2951036 rows x 13 columns]\n"
     ]
    }
   ],
   "source": [
    "dropped_unknown = data.loc[data['activity'] != 'UNKNOWN']\n",
    "print(dropped_unknown)"
   ]
  }
 ],
 "metadata": {
  "kernelspec": {
   "display_name": "Python 3 (ipykernel)",
   "language": "python",
   "name": "python3"
  }
 },
 "nbformat": 4,
 "nbformat_minor": 2
}
