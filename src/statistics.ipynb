{
 "cells": [
  {
   "cell_type": "markdown",
   "metadata": {},
   "source": [
    "# Statistical Analysis of the Datasets"
   ]
  },
  {
   "cell_type": "code",
   "execution_count": null,
   "metadata": {},
   "outputs": [],
   "source": [
    "import os\n",
    "import pandas as pd\n",
    "from pathlib import Path\n",
    "\n",
    "notebook_path = Path().resolve()\n",
    "data_path = os.path.join(notebook_path, '..', 'data', \"tale-camerino\", \"from_massimiliano\", \"processed\")\n",
    "output_path = os.path.join(notebook_path, '..', 'output')\n",
    "\n",
    "dtype = {'time': 'str', 'activity': 'category', 'x': 'float', 'y': 'float', 'z': 'float', 'robot': 'category', 'run': 'int', 'has_payload': 'category'}\n",
    "\n",
    "full_df = pd.DataFrame(columns=['time', 'activity', 'lifecycle', 'payload', 'x', 'y', 'z', 'robot', 'run', 'has_payload'])\n",
    "\n",
    "# use the multiple runs to predict activity\n",
    "for file in os.listdir(data_path):\n",
    "    if file.endswith(\".csv\") and not file.startswith(\"16\"):\n",
    "        df = pd.read_csv(os.path.join(data_path, file), dtype=dtype)\n",
    "\n",
    "        print(\"Loading file\", file)\n",
    "\n",
    "        # print all nan values of the dataframe\n",
    "        # print(df.isna().sum())\n",
    "\n",
    "        full_df = pd.concat([full_df, df])"
   ]
  },
  {
   "cell_type": "code",
   "execution_count": null,
   "metadata": {},
   "outputs": [],
   "source": [
    "# print statistics about runs\n",
    "print(full_df['run'].value_counts())"
   ]
  },
  {
   "cell_type": "code",
   "execution_count": 10,
   "metadata": {},
   "outputs": [],
   "source": [
    "# print statistics for each run and activity\n",
    "test = full_df.groupby(['run', 'activity']).size()"
   ]
  },
  {
   "cell_type": "code",
   "execution_count": null,
   "metadata": {},
   "outputs": [
    {
     "name": "stdout",
     "output_type": "stream",
     "text": [
      "['UNKNOWN' 'TAKEOFF' 'EXPLORE' 'WEED_FOUND' 'WEED_POSITION'\n",
      " 'TRACTOR_POSITION' 'CLOSEST_TRACTOR' 'MOVE' 'CUT_GRASS' 'LOW_BATTERY'\n",
      " 'RETURN_TO_BASE' 'TIME_OUT' 'LAND']\n"
     ]
    }
   ],
   "source": [
    "unique_activities = full_df['activity'].unique()\n",
    "# check if all activities are present in the dataset\n",
    "print(unique_activities)"
   ]
  }
 ],
 "metadata": {
  "kernelspec": {
   "display_name": ".venv",
   "language": "python",
   "name": "python3"
  },
  "language_info": {
   "codemirror_mode": {
    "name": "ipython",
    "version": 3
   },
   "file_extension": ".py",
   "mimetype": "text/x-python",
   "name": "python",
   "nbconvert_exporter": "python",
   "pygments_lexer": "ipython3",
   "version": "3.11.0"
  }
 },
 "nbformat": 4,
 "nbformat_minor": 2
}
